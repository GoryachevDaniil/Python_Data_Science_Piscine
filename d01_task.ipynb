{
  "cells": [
    {
      "cell_type": "markdown",
      "metadata": {
        "id": "view-in-github",
        "colab_type": "text"
      },
      "source": [
        "<a href=\"https://colab.research.google.com/github/GoryachevDaniil/Data_Science_Piscine/blob/main/d01_task.ipynb\" target=\"_parent\"><img src=\"https://colab.research.google.com/assets/colab-badge.svg\" alt=\"Open In Colab\"/></a>"
      ]
    },
    {
      "cell_type": "markdown",
      "metadata": {
        "id": "AeV1bOHvRJP5"
      },
      "source": [
        "# day01 - Трудно жить без даты!\n",
        "\n",
        "---"
      ]
    },
    {
      "cell_type": "markdown",
      "metadata": {
        "id": "ZhuzkKMiRJP8"
      },
      "source": [
        "Импортируем библиотеки с которыми мы уже встречались, и которые нам понадобятся в дальнейшем:"
      ]
    },
    {
      "cell_type": "code",
      "execution_count": 1,
      "metadata": {
        "id": "qIW6Sa8cRJP9"
      },
      "outputs": [],
      "source": [
        "import pandas as pd\n",
        "import numpy as np\n",
        "import math\n",
        "from datetime import datetime, timedelta, date, time"
      ]
    },
    {
      "cell_type": "markdown",
      "metadata": {
        "id": "94LQ3UfcRJP9"
      },
      "source": [
        "---\n",
        "\n",
        "## Неоднозначное соответствие единиц измерения времени\n",
        "\n",
        "В этом разделе представлены величины, имеющие несколько значений. Именно эти величины чаще всего используются в повседневной жизни, поэтому необходимо научиться их рассчитывать.\n",
        "\n",
        "- месяц - примерно 30 суток (от 28 до 31):\n",
        "    - январь, март, май, июль, август, октябрь и декабрь - 31 день\n",
        "    - апрель, июнь, сентябрь, ноябрь - 30 дней\n",
        "    - февраль - 28 или 29 дней\n",
        "- в году от 52 до 54 недель в зависимости от способа счисления, которые различаются, например, в США и Канаде от Европы\n",
        "- согласно ISO 8601, первой неделей года считается неделя, содержащая первый четверг года\n",
        "    - если 1 января или 31 декабря выпадает на четверг (или 1 января выпадает на среду в високосный год), то год содержит 53 недели\n",
        "    - в остальных случаях год содержит 52 недели\n",
        "- год содержит 365 или 366 дней\n",
        "- Високосный год определяется согласно следующим правилам:\n",
        "    - если год без остатка делится на 400, то это високосный год\n",
        "    - если год без остатка делится на 4 и при делении на 100 имеет остаток, то это високосный год\n",
        "    - в остальных случаях год не является високосным"
      ]
    },
    {
      "cell_type": "markdown",
      "metadata": {
        "id": "6_Mi38f7RJP-"
      },
      "source": [
        "---\n",
        "\n",
        "Научимся определять високосный год. Напишем для этого функцию, которая будет возвращать True, если год високосный и False, в противном случае:"
      ]
    },
    {
      "cell_type": "code",
      "execution_count": null,
      "metadata": {
        "id": "eiXeZdgvRJP_"
      },
      "outputs": [],
      "source": [
        "def day366(year):\n",
        "    return (year % 4 == 0) and (year % 100 != 0) or (year % 400 == 0)"
      ]
    },
    {
      "cell_type": "markdown",
      "metadata": {
        "id": "xo4RMlkkRJP_"
      },
      "source": [
        "---\n",
        "\n",
        "Проверим, как работает наша функция на тестовых данных 2000, 2019, 2020, 2021 и 2100 годов:"
      ]
    },
    {
      "cell_type": "code",
      "execution_count": null,
      "metadata": {
        "id": "lMarIU2DRJQA",
        "outputId": "144bf7f0-949d-42f2-b066-225d5c1c695a"
      },
      "outputs": [
        {
          "name": "stdout",
          "output_type": "stream",
          "text": [
            "1900 False\n",
            "2000 True\n",
            "2019 False\n",
            "2020 True\n",
            "2021 False\n",
            "2100 False\n"
          ]
        }
      ],
      "source": [
        "years = [1900, 2000, 2019, 2020, 2021, 2100]\n",
        "for j in years:\n",
        "    print(j, day366(j))"
      ]
    },
    {
      "cell_type": "markdown",
      "metadata": {
        "id": "XnFW9R_VRJQA"
      },
      "source": [
        "---\n",
        "\n",
        "# Задание 1\n",
        "\n",
        "Поздравить знакомого с Днем Рождения коротким сообщением для большинства из нас не составляет труда. С другой стороны проявленный акт внимания создает хорошее настроение и сохраняет социальные связи. Напишите код, который определяет дату рождения в игровой форме.  \n",
        "Пример:\n",
        "Один человек выясняет у другого дату рождения:\n",
        "   - У тебя День рождения в июне?\n",
        "   - Раньше.\n",
        "   - В апреле?\n",
        "   - Да.\n",
        "   - 15-го числа?\n",
        "   - Позже.\n",
        "   - 20-го?\n",
        "   - Да.\n",
        "   - У тебя День Рождения 20 апреля\n",
        "   \n",
        "Механизм взаимодействия:\n",
        "1. Функция get_month() формирует запросы к функции month_of_birth(month)\n",
        "2. Функция month_of_birth(month, m_o_b = number_of_month) проверяет month == m_o_b:\n",
        "  - Если равны, то функция возвращает значение 'да'\n",
        "  - Если month > m_o_b, то значение 'раньше'\n",
        "  - Если month < m_o_b, то значение 'позже'\n",
        "3. Как только получено значение 'да', get_month() прекращает работу и возвращает значение полученного month, переведенного в название месяца\n",
        "4. Функция get_day() формирует запросы к функции day_of_birth(day)\n",
        "5. Функция day_of_birth(day, d_o_b = number_of_day) проверяет day == d_o_b:\n",
        "    - Если равны, то функция возвращает значение 'да'\n",
        "    - Если day > d_o_b, то значение 'раньше'\n",
        "    - Если day < d_o_b, то значение 'позже'\n",
        "6. Как только получено значение 'да', get_day() прекращает работу и возвращает значение полученного day\n",
        "7. Публикация результата в формате \"число месяц\", например, 20 апреля\n",
        "Вам нужно написать код так, чтобы, поменявшись функциями get, вам не пришлось редактировать код для его выполнения. Постарайтесь разработать алгоритм, чтобы общее число запросов не превышало 10.\n",
        "\n",
        "*Рекомендация: Для того, чтобы точно были совместимы возвращаемые функциями ответы, лучше принудительно приводить строку к строчным буквам и без пробелов. Для этого используйте следующий код:*\n",
        "\n",
        "***s = s.lower().replace(' ', '')*** *здесь s - это строка, требующая изменений*\n",
        "\n",
        "Дополнительная информация по работе со строковыми переменными:\n",
        "\n",
        "[Официальная документация](https://docs.python.org/3/library/stdtypes.html#text-sequence-type-str)\n",
        "\n",
        "[Справочник основных функций на русском языке](https://pythonworld.ru/tipy-dannyx-v-python/stroki-funkcii-i-metody-strok.html)\n",
        "\n",
        "---"
      ]
    },
    {
      "cell_type": "code",
      "execution_count": 37,
      "metadata": {
        "id": "_In5W13NRJQC",
        "colab": {
          "base_uri": "https://localhost:8080/"
        },
        "outputId": "dcaf3121-3379-4497-d603-0dda79b0999c"
      },
      "outputs": [
        {
          "output_type": "stream",
          "name": "stdout",
          "text": [
            "У тебя день рождения в июне?\n",
            "Раньше\n",
            "У тебя день рождения в маре?\n",
            "Позже\n",
            "У тебя день рождения в апреле?\n",
            "Да\n",
            "15-го числа?\n",
            "Позже\n",
            "23-го числа?\n",
            "Раньше\n",
            "19-го числа?\n",
            "Позже\n",
            "21-го числа?\n",
            "Раньше\n",
            "20-го числа?\n",
            "Да\n",
            "У тебя День Рождения 20 апреля\n"
          ]
        }
      ],
      "source": [
        "from typing_extensions import ParamSpecKwargs\n",
        "\"\"\"Решение задания 1\"\"\"\n",
        "\n",
        "number_of_month = \"апрель\"\n",
        "number_of_day = 20\n",
        "\n",
        "months = ['январь','февраль','март','апрель','май','июнь','июль', \n",
        "        'август','сентябрь','октябрь','ноябрь','декабрь']\n",
        "days = [i for i in range(1, 32)]\n",
        "\n",
        "def month_of_birth(month, m_o_b = number_of_month):\n",
        "  if month == m_o_b:\n",
        "    print(\"Да\")\n",
        "    return 1\n",
        "  elif month != m_o_b:\n",
        "    i = months.index(m_o_b)\n",
        "    if i < months.index(month):\n",
        "      print(\"Раньше\")\n",
        "      return \"раньше\"\n",
        "    elif i > months.index(month):\n",
        "      print(\"Позже\")\n",
        "      return \"позже\"\n",
        "    #\"Функция принимает значение month, сравнивает с m_o_b и возвращает результаты сравнения\"\n",
        "    \n",
        "    \n",
        "def day_of_birth(day, d_o_b = number_of_day):\n",
        "  if day == d_o_b:\n",
        "    print(\"Да\")\n",
        "    return 1\n",
        "  elif day > d_o_b:\n",
        "    print(\"Раньше\")\n",
        "    return \"раньше\"\n",
        "  elif day < d_o_b:\n",
        "    print(\"Позже\")\n",
        "    return \"позже\"\n",
        "    #\"Функция принимает значение day, сравнивает его с d_o_b и возвращает результаты сравнения\"\n",
        "    \n",
        "    \n",
        "def get_month():\n",
        "  start = 0\n",
        "  end = 12\n",
        "  tmp = months\n",
        "  while True:\n",
        "    month = tmp[len(tmp) // 2 - 1]\n",
        "    print(f\"У тебя день рождения в {month[:-1] + 'е'}?\")\n",
        "    res = month_of_birth(month)\n",
        "    if res == \"раньше\":\n",
        "      end = len(tmp) // 2\n",
        "      tmp = tmp[start:end]\n",
        "    elif res == \"позже\":\n",
        "      start = len(tmp) // 2\n",
        "      tmp = tmp[start:end]\n",
        "    else:\n",
        "      return month\n",
        "  return month\n",
        "    #\"\"\"Функция формирует запросы month и анализирует результаты сравнения, переводит номер найденного месяца в \n",
        "    #строку его названия и возвращает результат\"\"\"\n",
        "    \n",
        "def get_day():\n",
        "  mid = len(days) // 2\n",
        "  low = 0\n",
        "  high = len(days) - 1\n",
        "  while True:\n",
        "    print(f\"{mid}-го числа?\")\n",
        "    res = day_of_birth(mid)\n",
        "    if res == \"позже\":\n",
        "        low = mid + 1\n",
        "    elif res == \"раньше\":\n",
        "        high = mid - 1\n",
        "    else:\n",
        "      return mid\n",
        "    mid = (low + high) // 2\n",
        "  return mid\n",
        "    # \"Функция формирует запросы day и анализирует результаты сравнения, возвращает результат\"\n",
        "\n",
        "\n",
        "def birthday():                    # функция, запускающая процесс определения даты рождения и выводящая результат\n",
        "    a = get_month()\n",
        "    b = get_day()\n",
        "    print(f\"У тебя День Рождения {b} {a[:-1] + 'я'}\")\n",
        "\n",
        "birthday()"
      ]
    },
    {
      "cell_type": "markdown",
      "metadata": {
        "id": "KZwiFqJoRJQD"
      },
      "source": [
        "---\n",
        "\n",
        "## Классы и методы модуля DateTime\n",
        "\n",
        "Модуль [DateTime](https://docs.python.org/3/library/datetime.html) предназначен для управления датами и временем в Python. "
      ]
    },
    {
      "cell_type": "code",
      "execution_count": 2,
      "metadata": {
        "id": "V6kDfZgfRJQD"
      },
      "outputs": [],
      "source": [
        "from datetime import datetime, timedelta, date, time"
      ]
    },
    {
      "cell_type": "code",
      "execution_count": null,
      "metadata": {
        "id": "mZoSRWmQRJQD",
        "outputId": "00105ece-7842-4586-93fd-7a37ebb4522c"
      },
      "outputs": [
        {
          "data": {
            "text/plain": [
              "datetime.datetime(2021, 12, 27, 4, 50, 12, 819516)"
            ]
          },
          "execution_count": 5,
          "metadata": {},
          "output_type": "execute_result"
        }
      ],
      "source": [
        "Time_Now = datetime.now() # возвращает текущие дату и время (год, месяц, число, час, минута, секунда, микросекунда)\n",
        "Time_Now "
      ]
    },
    {
      "cell_type": "code",
      "execution_count": null,
      "metadata": {
        "id": "atWiWSesRJQE",
        "outputId": "730dcdfe-1f1e-4172-8618-ea4ffa659e20"
      },
      "outputs": [
        {
          "data": {
            "text/plain": [
              "datetime.date(2021, 12, 27)"
            ]
          },
          "execution_count": 6,
          "metadata": {},
          "output_type": "execute_result"
        }
      ],
      "source": [
        "datetime.date(Time_Now) # отсекает время и оставляет только дату"
      ]
    },
    {
      "cell_type": "code",
      "execution_count": null,
      "metadata": {
        "id": "eGiSC4U-RJQE",
        "outputId": "e03d9e1d-5396-49ed-ee68-a8f1f334cf94"
      },
      "outputs": [
        {
          "data": {
            "text/plain": [
              "datetime.time(4, 50, 12, 819516)"
            ]
          },
          "execution_count": 7,
          "metadata": {},
          "output_type": "execute_result"
        }
      ],
      "source": [
        "datetime.time(Time_Now) # отсекает дату, оставляя только время"
      ]
    },
    {
      "cell_type": "code",
      "execution_count": null,
      "metadata": {
        "id": "uUF05YO8RJQE",
        "outputId": "0de2c559-0f79-4263-c2e3-1d7152d6df9d"
      },
      "outputs": [
        {
          "name": "stdout",
          "output_type": "stream",
          "text": [
            "2021-12-27T04:50:12.819516\n",
            "2021-12-27 04:50:12.819516\n",
            "2021-12-27 04:50:12\n"
          ]
        }
      ],
      "source": [
        "print(datetime.isoformat(Time_Now, sep='T'))                       # Дата и время с разделителем 'T'\n",
        "print(datetime.isoformat(Time_Now, sep=' '))                       # Дата и время с разделителем ' '\n",
        "print(datetime.isoformat(Time_Now, timespec = 'seconds', sep=' ')) # С детализацией до секунд"
      ]
    },
    {
      "cell_type": "code",
      "execution_count": null,
      "metadata": {
        "id": "AGNUwscsRJQF",
        "outputId": "6932607e-eb71-4519-867a-5422d3b08101"
      },
      "outputs": [
        {
          "data": {
            "text/plain": [
              "(2021, 52, 1)"
            ]
          },
          "execution_count": 9,
          "metadata": {},
          "output_type": "execute_result"
        }
      ],
      "source": [
        "datetime.isocalendar(Time_Now) # Возвращает в соответствии с ISO год, номер недели, номер дня недели"
      ]
    },
    {
      "cell_type": "code",
      "execution_count": null,
      "metadata": {
        "id": "tR4d66PDRJQF",
        "outputId": "040f015b-ea62-4d5b-a473-61d900cefc0c"
      },
      "outputs": [
        {
          "data": {
            "text/plain": [
              "1"
            ]
          },
          "execution_count": 10,
          "metadata": {},
          "output_type": "execute_result"
        }
      ],
      "source": [
        "datetime.isoweekday(Time_Now) # Номер дня недели (понедельник - 1)"
      ]
    },
    {
      "cell_type": "code",
      "execution_count": null,
      "metadata": {
        "id": "QjEvaFwRRJQF",
        "outputId": "9ce05be0-7be1-4d86-addd-55ed589d4e2b"
      },
      "outputs": [
        {
          "data": {
            "text/plain": [
              "datetime.datetime(2021, 1, 1, 0, 0, 1)"
            ]
          },
          "execution_count": 11,
          "metadata": {},
          "output_type": "execute_result"
        }
      ],
      "source": [
        "new_year = datetime.strptime('2021-01-01 00:00:01', '%Y-%m-%d %H:%M:%S') # Распознаем из строки дату и время \n",
        "new_year                                                                 # согласно формату '%Y-%m-%d %H:%M:%S'"
      ]
    },
    {
      "cell_type": "code",
      "execution_count": null,
      "metadata": {
        "id": "5SMqIM5ORJQG",
        "outputId": "07c4701e-4698-428a-87c4-29911d835265"
      },
      "outputs": [
        {
          "data": {
            "text/plain": [
              "'Friday, 01. January 2021 00:00'"
            ]
          },
          "execution_count": 12,
          "metadata": {},
          "output_type": "execute_result"
        }
      ],
      "source": [
        "new_year.strftime(\"%A, %d. %B %Y %H:%M\") # преобразуем дату и время к строке"
      ]
    },
    {
      "cell_type": "code",
      "execution_count": null,
      "metadata": {
        "id": "lvIN20stRJQG",
        "outputId": "6f76fa8d-34f7-4db9-ac51-083dc43685e5"
      },
      "outputs": [
        {
          "data": {
            "text/plain": [
              "datetime.timedelta(days=360, seconds=17411, microseconds=819516)"
            ]
          },
          "execution_count": 13,
          "metadata": {},
          "output_type": "execute_result"
        }
      ],
      "source": [
        "delta = Time_Now - new_year # Разница между датами, выраженная в днях, секундах и микросекундах\n",
        "delta"
      ]
    },
    {
      "cell_type": "code",
      "execution_count": null,
      "metadata": {
        "id": "j6SVHngTRJQH",
        "outputId": "b1a00846-594d-4922-9774-75163d33bbba"
      },
      "outputs": [
        {
          "data": {
            "text/plain": [
              "360"
            ]
          },
          "execution_count": 14,
          "metadata": {},
          "output_type": "execute_result"
        }
      ],
      "source": [
        "delta.days"
      ]
    },
    {
      "cell_type": "code",
      "execution_count": null,
      "metadata": {
        "id": "Tn_sc_dyRJQH",
        "outputId": "ada2f3e7-841c-4d19-c5dc-b51c8a90a527"
      },
      "outputs": [
        {
          "data": {
            "text/plain": [
              "17411"
            ]
          },
          "execution_count": 15,
          "metadata": {},
          "output_type": "execute_result"
        }
      ],
      "source": [
        "delta.seconds"
      ]
    },
    {
      "cell_type": "markdown",
      "metadata": {
        "id": "68inDQGJRJQH"
      },
      "source": [
        "---\n",
        "\n",
        "# Задание 2\n",
        "\n",
        "Требуется написать код, рассчитывающий количество рабочих часов с использованием методов модуля datetime.\n",
        "Требования к коду:\n",
        "1. Написать функцию *input_date()*, которая запрашивает у пользователя диапазон дат, на котором считается рабочее время. Граничные даты включаются в расчет. Функция возвращает две переменные с датами *start_date, end_date*.\n",
        "2. Написать функцию *date_to_datetime(start_date, end_date)*, которая преобразует даты в формат datetime. Функция возвращает переменные *start_date, end_date*, преобразованные к формату datetime.\n",
        "3. Написать функцию *delta_time(start_date, end_date)*, которая рассчитывает разницу во времени. По результату работы функции, в переменную *delta* функции, которая вызвала delta_time, должно быть записано общее количество оцениваемых дней.\n",
        "4. Написать функцию *day_of_the_week(start_date)*, которая возвращает номер дня недели, соответствующий началу оцениваемого периода, в переменную *start_day_of_the_week*.\n",
        "5. Написать функцию *calculating_hours(start_day_of_the_week, delta)*, которая возвращает количество рабочих часов за указанный период (и, таким образом, является точкой входа в нашу программу).\n",
        "6. Сформировать тестовые данные и протестировать программу.\n",
        "\n",
        "Упрощения:\n",
        "1. Пятидневная рабочая неделя, суббота и воскресенье - выходные;\n",
        "2. Каждый день отрабатывается ровно 8 часов;\n",
        "3. Праздники, отгулы, отпуска и больничные отсутствуют"
      ]
    },
    {
      "cell_type": "code",
      "execution_count": 86,
      "metadata": {
        "id": "wpgC_lciRJQI"
      },
      "outputs": [],
      "source": [
        "\"\"\"Решение задания 2\"\"\"\n",
        "\n",
        "def input_date():\n",
        "  start_date, end_date = input(\"Дата начала работы (YYYY MM DD hh:mm:ss): \"), \\\n",
        "                          input(\"Дата конца работы (YYYY MM DD hh:mm:ss): \")\n",
        "  return start_date.strip(), end_date.strip()\n",
        "\n",
        "def date_to_datetime(start_date, end_date):\n",
        "  start_date_obj = datetime.strptime(start_date, '%Y %m %d %H:%M:%S')\n",
        "  end_date_obj = datetime.strptime(end_date, '%Y %m %d %H:%M:%S')\n",
        "  return start_date_obj, end_date_obj\n",
        "    \n",
        "def delta_time(start_date, end_date):\n",
        "  return end_date - start_date\n",
        "    \n",
        "def day_of_the_week(start_date):\n",
        "  start_day_of_the_week = datetime.isoweekday(start_date)\n",
        "  return start_day_of_the_week\n",
        "    \n",
        "def calculating_hours(start_day_of_the_week, delta):\n",
        "  work_time = 0\n",
        "  work_days = [1, 2, 3, 4, 5]\n",
        "  for i in range(delta.days):\n",
        "    if start_day_of_the_week in work_days:\n",
        "      work_time += 8\n",
        "    start_day_of_the_week += 1\n",
        "    if start_day_of_the_week == 8:\n",
        "      start_day_of_the_week = 1\n",
        "    if i == delta.days:\n",
        "      if start_day_of_the_week in work_days:\n",
        "        work_time += 8\n",
        "  return work_time\n",
        "    "
      ]
    },
    {
      "cell_type": "code",
      "execution_count": 89,
      "metadata": {
        "id": "pP62WwgdRJQI",
        "colab": {
          "base_uri": "https://localhost:8080/"
        },
        "outputId": "521221cc-806b-45eb-af84-53cc0d44421f"
      },
      "outputs": [
        {
          "output_type": "stream",
          "name": "stdout",
          "text": [
            "Дата начала работы (YYYY, MM, DD hh:mm:ss): 2022 05 01 00:00:00\n",
            "Дата конца работы (YYYY, MM, DD hh:mm:ss): 2022 05 30 00:00:00\n",
            "Всего рабочих часов: 160.\n"
          ]
        }
      ],
      "source": [
        "\"\"\"Тестирование задания 2\"\"\"\n",
        "\n",
        "start_date, end_date = input_date()\n",
        "start_date, end_date = date_to_datetime(start_date, end_date)\n",
        "delta = delta_time(start_date, end_date)\n",
        "start_day_of_the_week = day_of_the_week(start_date)\n",
        "work_time = calculating_hours(start_day_of_the_week, delta)\n",
        "print(f\"Всего рабочих часов: {work_time}.\")\n",
        "\n",
        "# 2022 05 01 00:00:00\n",
        "# 2022 05 30 00:00:00"
      ]
    },
    {
      "cell_type": "markdown",
      "metadata": {
        "id": "YJTGDprVRJQI"
      },
      "source": [
        "---\n",
        "\n",
        "Практически всегда в датасетах дата и время представлены строкой в формате ***год-месяц-день часы:минуты:секунды***, например:"
      ]
    },
    {
      "cell_type": "code",
      "execution_count": null,
      "metadata": {
        "id": "EETqCy5MRJQI",
        "outputId": "333344b1-983c-496d-c9b6-d9d6485dc221"
      },
      "outputs": [
        {
          "data": {
            "text/plain": [
              "'2021-01-02 21:15:06'"
            ]
          },
          "execution_count": 17,
          "metadata": {},
          "output_type": "execute_result"
        }
      ],
      "source": [
        "Date_Time = '2021-01-02 21:15:06'\n",
        "Date_Time"
      ]
    },
    {
      "cell_type": "markdown",
      "metadata": {
        "id": "FddRUDYURJQI"
      },
      "source": [
        "В таком виде информация практически не может быть использована в задачах машинного обучения. Поэтому необходимо научиться преобразовывать эту строку и извлекать из нее полезную информацию. Мы уже рассмотрели библиотеку DateTime и можно пользоваться ею, но можно воспользоваться и просто обработкой строки, зная ее формат. Например, мы можем разбить строку на дату и время:"
      ]
    },
    {
      "cell_type": "code",
      "execution_count": null,
      "metadata": {
        "id": "HNW2tmJ-RJQI",
        "outputId": "2e4ccb79-d735-4116-e069-263e3bdd603c"
      },
      "outputs": [
        {
          "data": {
            "text/plain": [
              "('2021-01-02', '21:15:06')"
            ]
          },
          "execution_count": 18,
          "metadata": {},
          "output_type": "execute_result"
        }
      ],
      "source": [
        "Date, Time = Date_Time.split()\n",
        "Date, Time"
      ]
    },
    {
      "cell_type": "markdown",
      "metadata": {
        "id": "-ByF00uqRJQJ"
      },
      "source": [
        "Теперь мы можем разбить дату на год, месяц и день, а время - на часы, минуты и секунды:"
      ]
    },
    {
      "cell_type": "code",
      "execution_count": null,
      "metadata": {
        "id": "SaWKDly9RJQJ",
        "outputId": "825ce9b5-2704-4a11-f3ec-6d202ad9fa75"
      },
      "outputs": [
        {
          "name": "stdout",
          "output_type": "stream",
          "text": [
            "2021 01 02\n",
            "21 15 06\n"
          ]
        }
      ],
      "source": [
        "Y, M, D = Date.split('-')\n",
        "print(Y, M, D)\n",
        "h, m, s = Time.split(':')\n",
        "print(h, m, s)"
      ]
    },
    {
      "cell_type": "markdown",
      "metadata": {
        "id": "4EJj9c-3RJQJ"
      },
      "source": [
        "В данном способе есть недостаток - результат у нас записан в виде строк:"
      ]
    },
    {
      "cell_type": "code",
      "execution_count": null,
      "metadata": {
        "id": "w5N78bE7RJQJ",
        "outputId": "828ffdd8-a62f-4641-d28c-fa7bc78d3ca7"
      },
      "outputs": [
        {
          "data": {
            "text/plain": [
              "str"
            ]
          },
          "execution_count": 20,
          "metadata": {},
          "output_type": "execute_result"
        }
      ],
      "source": [
        "type(Y)"
      ]
    },
    {
      "cell_type": "markdown",
      "metadata": {
        "id": "aOuafoMARJQJ"
      },
      "source": [
        "Чтобы получить целочисленные значения, можно модифицировать код следующим образом:"
      ]
    },
    {
      "cell_type": "code",
      "execution_count": null,
      "metadata": {
        "id": "gwHFnXtORJQJ",
        "outputId": "07e02df5-6c16-4600-f17a-b70e2934358f"
      },
      "outputs": [
        {
          "name": "stdout",
          "output_type": "stream",
          "text": [
            "2021 1 2\n",
            "21 15 6\n"
          ]
        }
      ],
      "source": [
        "Y, M, D = map(int, Date.split('-'))\n",
        "print(Y, M, D)\n",
        "h, m, s = map(int, Time.split(':'))\n",
        "print(h, m, s)"
      ]
    },
    {
      "cell_type": "code",
      "execution_count": null,
      "metadata": {
        "id": "SvxmD-MiRJQJ",
        "outputId": "bc99487b-8b06-4ce7-c5f3-c38f9ca0d096"
      },
      "outputs": [
        {
          "data": {
            "text/plain": [
              "int"
            ]
          },
          "execution_count": 22,
          "metadata": {},
          "output_type": "execute_result"
        }
      ],
      "source": [
        "type(Y)"
      ]
    },
    {
      "cell_type": "markdown",
      "metadata": {
        "id": "Wfx-SEGPRJQK"
      },
      "source": [
        "---\n",
        "\n",
        "# Задание 3\n",
        "\n",
        "Вам нужно написать функцию, которая из входного объекта datetime будет выделять следующую информацию:\n",
        "\n",
        "1. Дата - в формате ***год-месяц-день***;\n",
        "2. Год;\n",
        "3. Месяц;\n",
        "4. День;\n",
        "5. Порядковый номер недели;\n",
        "6. День недели (например, понедельник);\n",
        "7. Время - в формате ***часы-минуты-секунды***;\n",
        "8. Часы;\n",
        "9. Минуты;\n",
        "10. Секунды;\n",
        "11. Количество секунд с начала дня.\n",
        "\n",
        "Эту функцию необходимо применить к таблице, в которой уже есть колонка с datetime'ами, и добавить в эту таблицу 11 новых столбцов, содержащих в себе значения из пп. 1-11. Очередность и название столбцов такие же, как в списке выше.\n",
        "\n",
        "Добиться результата можно различными способами.\n",
        "\n",
        "Для получения исходной информации необходимо выполнить код:"
      ]
    },
    {
      "cell_type": "code",
      "source": [
        "from google.colab import drive  # если вы выполняете код из среды Google Colab, нужно подключить свой гугл-диск,\n",
        "drive.mount('/content/drive')   # чтобы можно было оттуда считать файл с данными для этого задания"
      ],
      "metadata": {
        "colab": {
          "base_uri": "https://localhost:8080/"
        },
        "id": "4ZYxzzzND3mA",
        "outputId": "431620bf-77e2-4ea3-8db1-546370d625b4"
      },
      "execution_count": 42,
      "outputs": [
        {
          "output_type": "stream",
          "name": "stdout",
          "text": [
            "Drive already mounted at /content/drive; to attempt to forcibly remount, call drive.mount(\"/content/drive\", force_remount=True).\n"
          ]
        }
      ]
    },
    {
      "cell_type": "code",
      "execution_count": 43,
      "metadata": {
        "id": "6LMUlNSURJQK",
        "outputId": "228c6adb-3f41-4058-85e3-b454d63ff0c7",
        "colab": {
          "base_uri": "https://localhost:8080/",
          "height": 206
        }
      },
      "outputs": [
        {
          "output_type": "execute_result",
          "data": {
            "text/plain": [
              "                 Даты\n",
              "0 2021-01-26 17:22:41\n",
              "1 2013-04-18 14:44:04\n",
              "2 2017-11-12 21:51:06\n",
              "3 2001-09-14 22:48:09\n",
              "4 2012-12-03 18:05:30"
            ],
            "text/html": [
              "\n",
              "  <div id=\"df-cad50f37-134a-4049-b1b4-64e2fe90595f\">\n",
              "    <div class=\"colab-df-container\">\n",
              "      <div>\n",
              "<style scoped>\n",
              "    .dataframe tbody tr th:only-of-type {\n",
              "        vertical-align: middle;\n",
              "    }\n",
              "\n",
              "    .dataframe tbody tr th {\n",
              "        vertical-align: top;\n",
              "    }\n",
              "\n",
              "    .dataframe thead th {\n",
              "        text-align: right;\n",
              "    }\n",
              "</style>\n",
              "<table border=\"1\" class=\"dataframe\">\n",
              "  <thead>\n",
              "    <tr style=\"text-align: right;\">\n",
              "      <th></th>\n",
              "      <th>Даты</th>\n",
              "    </tr>\n",
              "  </thead>\n",
              "  <tbody>\n",
              "    <tr>\n",
              "      <th>0</th>\n",
              "      <td>2021-01-26 17:22:41</td>\n",
              "    </tr>\n",
              "    <tr>\n",
              "      <th>1</th>\n",
              "      <td>2013-04-18 14:44:04</td>\n",
              "    </tr>\n",
              "    <tr>\n",
              "      <th>2</th>\n",
              "      <td>2017-11-12 21:51:06</td>\n",
              "    </tr>\n",
              "    <tr>\n",
              "      <th>3</th>\n",
              "      <td>2001-09-14 22:48:09</td>\n",
              "    </tr>\n",
              "    <tr>\n",
              "      <th>4</th>\n",
              "      <td>2012-12-03 18:05:30</td>\n",
              "    </tr>\n",
              "  </tbody>\n",
              "</table>\n",
              "</div>\n",
              "      <button class=\"colab-df-convert\" onclick=\"convertToInteractive('df-cad50f37-134a-4049-b1b4-64e2fe90595f')\"\n",
              "              title=\"Convert this dataframe to an interactive table.\"\n",
              "              style=\"display:none;\">\n",
              "        \n",
              "  <svg xmlns=\"http://www.w3.org/2000/svg\" height=\"24px\"viewBox=\"0 0 24 24\"\n",
              "       width=\"24px\">\n",
              "    <path d=\"M0 0h24v24H0V0z\" fill=\"none\"/>\n",
              "    <path d=\"M18.56 5.44l.94 2.06.94-2.06 2.06-.94-2.06-.94-.94-2.06-.94 2.06-2.06.94zm-11 1L8.5 8.5l.94-2.06 2.06-.94-2.06-.94L8.5 2.5l-.94 2.06-2.06.94zm10 10l.94 2.06.94-2.06 2.06-.94-2.06-.94-.94-2.06-.94 2.06-2.06.94z\"/><path d=\"M17.41 7.96l-1.37-1.37c-.4-.4-.92-.59-1.43-.59-.52 0-1.04.2-1.43.59L10.3 9.45l-7.72 7.72c-.78.78-.78 2.05 0 2.83L4 21.41c.39.39.9.59 1.41.59.51 0 1.02-.2 1.41-.59l7.78-7.78 2.81-2.81c.8-.78.8-2.07 0-2.86zM5.41 20L4 18.59l7.72-7.72 1.47 1.35L5.41 20z\"/>\n",
              "  </svg>\n",
              "      </button>\n",
              "      \n",
              "  <style>\n",
              "    .colab-df-container {\n",
              "      display:flex;\n",
              "      flex-wrap:wrap;\n",
              "      gap: 12px;\n",
              "    }\n",
              "\n",
              "    .colab-df-convert {\n",
              "      background-color: #E8F0FE;\n",
              "      border: none;\n",
              "      border-radius: 50%;\n",
              "      cursor: pointer;\n",
              "      display: none;\n",
              "      fill: #1967D2;\n",
              "      height: 32px;\n",
              "      padding: 0 0 0 0;\n",
              "      width: 32px;\n",
              "    }\n",
              "\n",
              "    .colab-df-convert:hover {\n",
              "      background-color: #E2EBFA;\n",
              "      box-shadow: 0px 1px 2px rgba(60, 64, 67, 0.3), 0px 1px 3px 1px rgba(60, 64, 67, 0.15);\n",
              "      fill: #174EA6;\n",
              "    }\n",
              "\n",
              "    [theme=dark] .colab-df-convert {\n",
              "      background-color: #3B4455;\n",
              "      fill: #D2E3FC;\n",
              "    }\n",
              "\n",
              "    [theme=dark] .colab-df-convert:hover {\n",
              "      background-color: #434B5C;\n",
              "      box-shadow: 0px 1px 3px 1px rgba(0, 0, 0, 0.15);\n",
              "      filter: drop-shadow(0px 1px 2px rgba(0, 0, 0, 0.3));\n",
              "      fill: #FFFFFF;\n",
              "    }\n",
              "  </style>\n",
              "\n",
              "      <script>\n",
              "        const buttonEl =\n",
              "          document.querySelector('#df-cad50f37-134a-4049-b1b4-64e2fe90595f button.colab-df-convert');\n",
              "        buttonEl.style.display =\n",
              "          google.colab.kernel.accessAllowed ? 'block' : 'none';\n",
              "\n",
              "        async function convertToInteractive(key) {\n",
              "          const element = document.querySelector('#df-cad50f37-134a-4049-b1b4-64e2fe90595f');\n",
              "          const dataTable =\n",
              "            await google.colab.kernel.invokeFunction('convertToInteractive',\n",
              "                                                     [key], {});\n",
              "          if (!dataTable) return;\n",
              "\n",
              "          const docLinkHtml = 'Like what you see? Visit the ' +\n",
              "            '<a target=\"_blank\" href=https://colab.research.google.com/notebooks/data_table.ipynb>data table notebook</a>'\n",
              "            + ' to learn more about interactive tables.';\n",
              "          element.innerHTML = '';\n",
              "          dataTable['output_type'] = 'display_data';\n",
              "          await google.colab.output.renderOutput(dataTable, element);\n",
              "          const docLink = document.createElement('div');\n",
              "          docLink.innerHTML = docLinkHtml;\n",
              "          element.appendChild(docLink);\n",
              "        }\n",
              "      </script>\n",
              "    </div>\n",
              "  </div>\n",
              "  "
            ]
          },
          "metadata": {},
          "execution_count": 43
        }
      ],
      "source": [
        "# здесь и далее вам понадобится менять пути к файлам, поскольку в вашей системе вы их можете записать в другое место\n",
        "\n",
        "data = pd.read_excel('/content/drive/MyDrive/school21/day01/datasets/Даты.xlsx')\n",
        "data"
      ]
    },
    {
      "cell_type": "markdown",
      "metadata": {
        "id": "j3FPk6NeRJQK"
      },
      "source": [
        "Добавлять значения в таблицу можно следующим образом:"
      ]
    },
    {
      "cell_type": "code",
      "execution_count": 44,
      "metadata": {
        "id": "jkSXSiVuRJQK",
        "outputId": "934017d5-73f1-4562-ddc1-69b43c213da0",
        "colab": {
          "base_uri": "https://localhost:8080/",
          "height": 354
        }
      },
      "outputs": [
        {
          "output_type": "execute_result",
          "data": {
            "text/plain": [
              "                 Даты Дата  Год Месяц День Порядковый номер недели  \\\n",
              "0 2021-01-26 17:22:41  new  new   new  new                     new   \n",
              "1 2013-04-18 14:44:04  new  new   new  new                     new   \n",
              "2 2017-11-12 21:51:06  new  new   new  new                     new   \n",
              "3 2001-09-14 22:48:09  new  new   new  new                     new   \n",
              "4 2012-12-03 18:05:30  new  new   new  new                     new   \n",
              "\n",
              "  День недели Время Часы Минуты Секунды Количество секунд с начала дня  \n",
              "0         new   new  new    new     new                            new  \n",
              "1         new   new  new    new     new                            new  \n",
              "2         new   new  new    new     new                            new  \n",
              "3         new   new  new    new     new                            new  \n",
              "4         new   new  new    new     new                            new  "
            ],
            "text/html": [
              "\n",
              "  <div id=\"df-29ea20d5-bdc4-4fce-b015-0b3f75cbd0fa\">\n",
              "    <div class=\"colab-df-container\">\n",
              "      <div>\n",
              "<style scoped>\n",
              "    .dataframe tbody tr th:only-of-type {\n",
              "        vertical-align: middle;\n",
              "    }\n",
              "\n",
              "    .dataframe tbody tr th {\n",
              "        vertical-align: top;\n",
              "    }\n",
              "\n",
              "    .dataframe thead th {\n",
              "        text-align: right;\n",
              "    }\n",
              "</style>\n",
              "<table border=\"1\" class=\"dataframe\">\n",
              "  <thead>\n",
              "    <tr style=\"text-align: right;\">\n",
              "      <th></th>\n",
              "      <th>Даты</th>\n",
              "      <th>Дата</th>\n",
              "      <th>Год</th>\n",
              "      <th>Месяц</th>\n",
              "      <th>День</th>\n",
              "      <th>Порядковый номер недели</th>\n",
              "      <th>День недели</th>\n",
              "      <th>Время</th>\n",
              "      <th>Часы</th>\n",
              "      <th>Минуты</th>\n",
              "      <th>Секунды</th>\n",
              "      <th>Количество секунд с начала дня</th>\n",
              "    </tr>\n",
              "  </thead>\n",
              "  <tbody>\n",
              "    <tr>\n",
              "      <th>0</th>\n",
              "      <td>2021-01-26 17:22:41</td>\n",
              "      <td>new</td>\n",
              "      <td>new</td>\n",
              "      <td>new</td>\n",
              "      <td>new</td>\n",
              "      <td>new</td>\n",
              "      <td>new</td>\n",
              "      <td>new</td>\n",
              "      <td>new</td>\n",
              "      <td>new</td>\n",
              "      <td>new</td>\n",
              "      <td>new</td>\n",
              "    </tr>\n",
              "    <tr>\n",
              "      <th>1</th>\n",
              "      <td>2013-04-18 14:44:04</td>\n",
              "      <td>new</td>\n",
              "      <td>new</td>\n",
              "      <td>new</td>\n",
              "      <td>new</td>\n",
              "      <td>new</td>\n",
              "      <td>new</td>\n",
              "      <td>new</td>\n",
              "      <td>new</td>\n",
              "      <td>new</td>\n",
              "      <td>new</td>\n",
              "      <td>new</td>\n",
              "    </tr>\n",
              "    <tr>\n",
              "      <th>2</th>\n",
              "      <td>2017-11-12 21:51:06</td>\n",
              "      <td>new</td>\n",
              "      <td>new</td>\n",
              "      <td>new</td>\n",
              "      <td>new</td>\n",
              "      <td>new</td>\n",
              "      <td>new</td>\n",
              "      <td>new</td>\n",
              "      <td>new</td>\n",
              "      <td>new</td>\n",
              "      <td>new</td>\n",
              "      <td>new</td>\n",
              "    </tr>\n",
              "    <tr>\n",
              "      <th>3</th>\n",
              "      <td>2001-09-14 22:48:09</td>\n",
              "      <td>new</td>\n",
              "      <td>new</td>\n",
              "      <td>new</td>\n",
              "      <td>new</td>\n",
              "      <td>new</td>\n",
              "      <td>new</td>\n",
              "      <td>new</td>\n",
              "      <td>new</td>\n",
              "      <td>new</td>\n",
              "      <td>new</td>\n",
              "      <td>new</td>\n",
              "    </tr>\n",
              "    <tr>\n",
              "      <th>4</th>\n",
              "      <td>2012-12-03 18:05:30</td>\n",
              "      <td>new</td>\n",
              "      <td>new</td>\n",
              "      <td>new</td>\n",
              "      <td>new</td>\n",
              "      <td>new</td>\n",
              "      <td>new</td>\n",
              "      <td>new</td>\n",
              "      <td>new</td>\n",
              "      <td>new</td>\n",
              "      <td>new</td>\n",
              "      <td>new</td>\n",
              "    </tr>\n",
              "  </tbody>\n",
              "</table>\n",
              "</div>\n",
              "      <button class=\"colab-df-convert\" onclick=\"convertToInteractive('df-29ea20d5-bdc4-4fce-b015-0b3f75cbd0fa')\"\n",
              "              title=\"Convert this dataframe to an interactive table.\"\n",
              "              style=\"display:none;\">\n",
              "        \n",
              "  <svg xmlns=\"http://www.w3.org/2000/svg\" height=\"24px\"viewBox=\"0 0 24 24\"\n",
              "       width=\"24px\">\n",
              "    <path d=\"M0 0h24v24H0V0z\" fill=\"none\"/>\n",
              "    <path d=\"M18.56 5.44l.94 2.06.94-2.06 2.06-.94-2.06-.94-.94-2.06-.94 2.06-2.06.94zm-11 1L8.5 8.5l.94-2.06 2.06-.94-2.06-.94L8.5 2.5l-.94 2.06-2.06.94zm10 10l.94 2.06.94-2.06 2.06-.94-2.06-.94-.94-2.06-.94 2.06-2.06.94z\"/><path d=\"M17.41 7.96l-1.37-1.37c-.4-.4-.92-.59-1.43-.59-.52 0-1.04.2-1.43.59L10.3 9.45l-7.72 7.72c-.78.78-.78 2.05 0 2.83L4 21.41c.39.39.9.59 1.41.59.51 0 1.02-.2 1.41-.59l7.78-7.78 2.81-2.81c.8-.78.8-2.07 0-2.86zM5.41 20L4 18.59l7.72-7.72 1.47 1.35L5.41 20z\"/>\n",
              "  </svg>\n",
              "      </button>\n",
              "      \n",
              "  <style>\n",
              "    .colab-df-container {\n",
              "      display:flex;\n",
              "      flex-wrap:wrap;\n",
              "      gap: 12px;\n",
              "    }\n",
              "\n",
              "    .colab-df-convert {\n",
              "      background-color: #E8F0FE;\n",
              "      border: none;\n",
              "      border-radius: 50%;\n",
              "      cursor: pointer;\n",
              "      display: none;\n",
              "      fill: #1967D2;\n",
              "      height: 32px;\n",
              "      padding: 0 0 0 0;\n",
              "      width: 32px;\n",
              "    }\n",
              "\n",
              "    .colab-df-convert:hover {\n",
              "      background-color: #E2EBFA;\n",
              "      box-shadow: 0px 1px 2px rgba(60, 64, 67, 0.3), 0px 1px 3px 1px rgba(60, 64, 67, 0.15);\n",
              "      fill: #174EA6;\n",
              "    }\n",
              "\n",
              "    [theme=dark] .colab-df-convert {\n",
              "      background-color: #3B4455;\n",
              "      fill: #D2E3FC;\n",
              "    }\n",
              "\n",
              "    [theme=dark] .colab-df-convert:hover {\n",
              "      background-color: #434B5C;\n",
              "      box-shadow: 0px 1px 3px 1px rgba(0, 0, 0, 0.15);\n",
              "      filter: drop-shadow(0px 1px 2px rgba(0, 0, 0, 0.3));\n",
              "      fill: #FFFFFF;\n",
              "    }\n",
              "  </style>\n",
              "\n",
              "      <script>\n",
              "        const buttonEl =\n",
              "          document.querySelector('#df-29ea20d5-bdc4-4fce-b015-0b3f75cbd0fa button.colab-df-convert');\n",
              "        buttonEl.style.display =\n",
              "          google.colab.kernel.accessAllowed ? 'block' : 'none';\n",
              "\n",
              "        async function convertToInteractive(key) {\n",
              "          const element = document.querySelector('#df-29ea20d5-bdc4-4fce-b015-0b3f75cbd0fa');\n",
              "          const dataTable =\n",
              "            await google.colab.kernel.invokeFunction('convertToInteractive',\n",
              "                                                     [key], {});\n",
              "          if (!dataTable) return;\n",
              "\n",
              "          const docLinkHtml = 'Like what you see? Visit the ' +\n",
              "            '<a target=\"_blank\" href=https://colab.research.google.com/notebooks/data_table.ipynb>data table notebook</a>'\n",
              "            + ' to learn more about interactive tables.';\n",
              "          element.innerHTML = '';\n",
              "          dataTable['output_type'] = 'display_data';\n",
              "          await google.colab.output.renderOutput(dataTable, element);\n",
              "          const docLink = document.createElement('div');\n",
              "          docLink.innerHTML = docLinkHtml;\n",
              "          element.appendChild(docLink);\n",
              "        }\n",
              "      </script>\n",
              "    </div>\n",
              "  </div>\n",
              "  "
            ]
          },
          "metadata": {},
          "execution_count": 44
        }
      ],
      "source": [
        "new_values = ['new' for j in range(len(data))]  # len DF\n",
        "data['Дата'] = new_values # в формате год-месяц-день;\n",
        "data['Год'] = new_values\n",
        "data['Месяц'] = new_values\n",
        "data['День'] = new_values\n",
        "data['Порядковый номер недели'] = new_values\n",
        "data['День недели'] = new_values # (например, понедельник);\n",
        "data['Время'] = new_values # в формате часы-минуты-секунды;\n",
        "data['Часы'] = new_values\n",
        "data['Минуты'] = new_values\n",
        "data['Секунды'] = new_values\n",
        "data['Количество секунд с начала дня'] = new_values\n",
        "\n",
        "data"
      ]
    },
    {
      "cell_type": "code",
      "source": [
        "\"\"\"Решение задания 3\"\"\"\n",
        "\n",
        "for i in range(len(data)): # len DF\n",
        "  Date, Time = str(data[\"Даты\"][i]).split()\n",
        "  data[\"Дата\"][i] = Date\n",
        "  data[\"Год\"][i] = Date.split('-')[0]\n",
        "  data[\"Месяц\"][i] = Date.split('-')[1]\n",
        "  data[\"День\"][i] = Date.split('-')[2]\n",
        "  data[\"Порядковый номер недели\"][i] = data[\"Даты\"][i].isocalendar()[1]\n",
        "  data[\"День недели\"][i] = data[\"Даты\"][i].isoweekday()\n",
        "  data[\"Время\"][i] = Time\n",
        "  data[\"Часы\"][i] = Time.split(':')[0]\n",
        "  data[\"Минуты\"][i] = Time.split(':')[1]\n",
        "  data[\"Секунды\"][i] = Time.split(':')[2]\n",
        "  tmp_date_time_1 = datetime.strptime(Date + \" 00:00:00\", '%Y-%m-%d %H:%M:%S')\n",
        "  tmp_date_time_2 = datetime.strptime(Date + ' ' + Time, '%Y-%m-%d %H:%M:%S')\n",
        "  delta = tmp_date_time_2 - tmp_date_time_1\n",
        "  data['Количество секунд с начала дня'][i] = delta.seconds\n",
        "\n",
        "data"
      ],
      "metadata": {
        "colab": {
          "base_uri": "https://localhost:8080/",
          "height": 1000
        },
        "id": "Fpshzen-Y0Cy",
        "outputId": "fc241b33-7c97-46d1-9e19-869ce5adbcf9"
      },
      "execution_count": 100,
      "outputs": [
        {
          "output_type": "stream",
          "name": "stderr",
          "text": [
            "/usr/local/lib/python3.7/dist-packages/ipykernel_launcher.py:5: SettingWithCopyWarning: \n",
            "A value is trying to be set on a copy of a slice from a DataFrame\n",
            "\n",
            "See the caveats in the documentation: https://pandas.pydata.org/pandas-docs/stable/user_guide/indexing.html#returning-a-view-versus-a-copy\n",
            "  \"\"\"\n",
            "/usr/local/lib/python3.7/dist-packages/ipykernel_launcher.py:6: SettingWithCopyWarning: \n",
            "A value is trying to be set on a copy of a slice from a DataFrame\n",
            "\n",
            "See the caveats in the documentation: https://pandas.pydata.org/pandas-docs/stable/user_guide/indexing.html#returning-a-view-versus-a-copy\n",
            "  \n",
            "/usr/local/lib/python3.7/dist-packages/ipykernel_launcher.py:7: SettingWithCopyWarning: \n",
            "A value is trying to be set on a copy of a slice from a DataFrame\n",
            "\n",
            "See the caveats in the documentation: https://pandas.pydata.org/pandas-docs/stable/user_guide/indexing.html#returning-a-view-versus-a-copy\n",
            "  import sys\n",
            "/usr/local/lib/python3.7/dist-packages/ipykernel_launcher.py:8: SettingWithCopyWarning: \n",
            "A value is trying to be set on a copy of a slice from a DataFrame\n",
            "\n",
            "See the caveats in the documentation: https://pandas.pydata.org/pandas-docs/stable/user_guide/indexing.html#returning-a-view-versus-a-copy\n",
            "  \n",
            "/usr/local/lib/python3.7/dist-packages/ipykernel_launcher.py:9: SettingWithCopyWarning: \n",
            "A value is trying to be set on a copy of a slice from a DataFrame\n",
            "\n",
            "See the caveats in the documentation: https://pandas.pydata.org/pandas-docs/stable/user_guide/indexing.html#returning-a-view-versus-a-copy\n",
            "  if __name__ == '__main__':\n",
            "/usr/local/lib/python3.7/dist-packages/ipykernel_launcher.py:10: SettingWithCopyWarning: \n",
            "A value is trying to be set on a copy of a slice from a DataFrame\n",
            "\n",
            "See the caveats in the documentation: https://pandas.pydata.org/pandas-docs/stable/user_guide/indexing.html#returning-a-view-versus-a-copy\n",
            "  # Remove the CWD from sys.path while we load stuff.\n",
            "/usr/local/lib/python3.7/dist-packages/ipykernel_launcher.py:11: SettingWithCopyWarning: \n",
            "A value is trying to be set on a copy of a slice from a DataFrame\n",
            "\n",
            "See the caveats in the documentation: https://pandas.pydata.org/pandas-docs/stable/user_guide/indexing.html#returning-a-view-versus-a-copy\n",
            "  # This is added back by InteractiveShellApp.init_path()\n",
            "/usr/local/lib/python3.7/dist-packages/ipykernel_launcher.py:12: SettingWithCopyWarning: \n",
            "A value is trying to be set on a copy of a slice from a DataFrame\n",
            "\n",
            "See the caveats in the documentation: https://pandas.pydata.org/pandas-docs/stable/user_guide/indexing.html#returning-a-view-versus-a-copy\n",
            "  if sys.path[0] == '':\n",
            "/usr/local/lib/python3.7/dist-packages/ipykernel_launcher.py:13: SettingWithCopyWarning: \n",
            "A value is trying to be set on a copy of a slice from a DataFrame\n",
            "\n",
            "See the caveats in the documentation: https://pandas.pydata.org/pandas-docs/stable/user_guide/indexing.html#returning-a-view-versus-a-copy\n",
            "  del sys.path[0]\n",
            "/usr/local/lib/python3.7/dist-packages/ipykernel_launcher.py:14: SettingWithCopyWarning: \n",
            "A value is trying to be set on a copy of a slice from a DataFrame\n",
            "\n",
            "See the caveats in the documentation: https://pandas.pydata.org/pandas-docs/stable/user_guide/indexing.html#returning-a-view-versus-a-copy\n",
            "  \n",
            "/usr/local/lib/python3.7/dist-packages/ipykernel_launcher.py:20: SettingWithCopyWarning: \n",
            "A value is trying to be set on a copy of a slice from a DataFrame\n",
            "\n",
            "See the caveats in the documentation: https://pandas.pydata.org/pandas-docs/stable/user_guide/indexing.html#returning-a-view-versus-a-copy\n"
          ]
        },
        {
          "output_type": "execute_result",
          "data": {
            "text/plain": [
              "                 Даты        Дата   Год Месяц День Порядковый номер недели  \\\n",
              "0 2021-01-26 17:22:41  2021-01-26  2021    01   26                       4   \n",
              "1 2013-04-18 14:44:04  2013-04-18  2013    04   18                      16   \n",
              "2 2017-11-12 21:51:06  2017-11-12  2017    11   12                      45   \n",
              "3 2001-09-14 22:48:09  2001-09-14  2001    09   14                      37   \n",
              "4 2012-12-03 18:05:30  2012-12-03  2012    12   03                      49   \n",
              "\n",
              "  День недели     Время Часы Минуты Секунды  Количество секунд с начала дня  \n",
              "0           2  17:22:41   17     22      41                           62561  \n",
              "1           4  14:44:04   14     44      04                           53044  \n",
              "2           7  21:51:06   21     51      06                           78666  \n",
              "3           5  22:48:09   22     48      09                           82089  \n",
              "4           1  18:05:30   18     05      30                           65130  "
            ],
            "text/html": [
              "\n",
              "  <div id=\"df-ba660807-4ec7-4862-8fcc-6a22cb67ea35\">\n",
              "    <div class=\"colab-df-container\">\n",
              "      <div>\n",
              "<style scoped>\n",
              "    .dataframe tbody tr th:only-of-type {\n",
              "        vertical-align: middle;\n",
              "    }\n",
              "\n",
              "    .dataframe tbody tr th {\n",
              "        vertical-align: top;\n",
              "    }\n",
              "\n",
              "    .dataframe thead th {\n",
              "        text-align: right;\n",
              "    }\n",
              "</style>\n",
              "<table border=\"1\" class=\"dataframe\">\n",
              "  <thead>\n",
              "    <tr style=\"text-align: right;\">\n",
              "      <th></th>\n",
              "      <th>Даты</th>\n",
              "      <th>Дата</th>\n",
              "      <th>Год</th>\n",
              "      <th>Месяц</th>\n",
              "      <th>День</th>\n",
              "      <th>Порядковый номер недели</th>\n",
              "      <th>День недели</th>\n",
              "      <th>Время</th>\n",
              "      <th>Часы</th>\n",
              "      <th>Минуты</th>\n",
              "      <th>Секунды</th>\n",
              "      <th>Количество секунд с начала дня</th>\n",
              "    </tr>\n",
              "  </thead>\n",
              "  <tbody>\n",
              "    <tr>\n",
              "      <th>0</th>\n",
              "      <td>2021-01-26 17:22:41</td>\n",
              "      <td>2021-01-26</td>\n",
              "      <td>2021</td>\n",
              "      <td>01</td>\n",
              "      <td>26</td>\n",
              "      <td>4</td>\n",
              "      <td>2</td>\n",
              "      <td>17:22:41</td>\n",
              "      <td>17</td>\n",
              "      <td>22</td>\n",
              "      <td>41</td>\n",
              "      <td>62561</td>\n",
              "    </tr>\n",
              "    <tr>\n",
              "      <th>1</th>\n",
              "      <td>2013-04-18 14:44:04</td>\n",
              "      <td>2013-04-18</td>\n",
              "      <td>2013</td>\n",
              "      <td>04</td>\n",
              "      <td>18</td>\n",
              "      <td>16</td>\n",
              "      <td>4</td>\n",
              "      <td>14:44:04</td>\n",
              "      <td>14</td>\n",
              "      <td>44</td>\n",
              "      <td>04</td>\n",
              "      <td>53044</td>\n",
              "    </tr>\n",
              "    <tr>\n",
              "      <th>2</th>\n",
              "      <td>2017-11-12 21:51:06</td>\n",
              "      <td>2017-11-12</td>\n",
              "      <td>2017</td>\n",
              "      <td>11</td>\n",
              "      <td>12</td>\n",
              "      <td>45</td>\n",
              "      <td>7</td>\n",
              "      <td>21:51:06</td>\n",
              "      <td>21</td>\n",
              "      <td>51</td>\n",
              "      <td>06</td>\n",
              "      <td>78666</td>\n",
              "    </tr>\n",
              "    <tr>\n",
              "      <th>3</th>\n",
              "      <td>2001-09-14 22:48:09</td>\n",
              "      <td>2001-09-14</td>\n",
              "      <td>2001</td>\n",
              "      <td>09</td>\n",
              "      <td>14</td>\n",
              "      <td>37</td>\n",
              "      <td>5</td>\n",
              "      <td>22:48:09</td>\n",
              "      <td>22</td>\n",
              "      <td>48</td>\n",
              "      <td>09</td>\n",
              "      <td>82089</td>\n",
              "    </tr>\n",
              "    <tr>\n",
              "      <th>4</th>\n",
              "      <td>2012-12-03 18:05:30</td>\n",
              "      <td>2012-12-03</td>\n",
              "      <td>2012</td>\n",
              "      <td>12</td>\n",
              "      <td>03</td>\n",
              "      <td>49</td>\n",
              "      <td>1</td>\n",
              "      <td>18:05:30</td>\n",
              "      <td>18</td>\n",
              "      <td>05</td>\n",
              "      <td>30</td>\n",
              "      <td>65130</td>\n",
              "    </tr>\n",
              "  </tbody>\n",
              "</table>\n",
              "</div>\n",
              "      <button class=\"colab-df-convert\" onclick=\"convertToInteractive('df-ba660807-4ec7-4862-8fcc-6a22cb67ea35')\"\n",
              "              title=\"Convert this dataframe to an interactive table.\"\n",
              "              style=\"display:none;\">\n",
              "        \n",
              "  <svg xmlns=\"http://www.w3.org/2000/svg\" height=\"24px\"viewBox=\"0 0 24 24\"\n",
              "       width=\"24px\">\n",
              "    <path d=\"M0 0h24v24H0V0z\" fill=\"none\"/>\n",
              "    <path d=\"M18.56 5.44l.94 2.06.94-2.06 2.06-.94-2.06-.94-.94-2.06-.94 2.06-2.06.94zm-11 1L8.5 8.5l.94-2.06 2.06-.94-2.06-.94L8.5 2.5l-.94 2.06-2.06.94zm10 10l.94 2.06.94-2.06 2.06-.94-2.06-.94-.94-2.06-.94 2.06-2.06.94z\"/><path d=\"M17.41 7.96l-1.37-1.37c-.4-.4-.92-.59-1.43-.59-.52 0-1.04.2-1.43.59L10.3 9.45l-7.72 7.72c-.78.78-.78 2.05 0 2.83L4 21.41c.39.39.9.59 1.41.59.51 0 1.02-.2 1.41-.59l7.78-7.78 2.81-2.81c.8-.78.8-2.07 0-2.86zM5.41 20L4 18.59l7.72-7.72 1.47 1.35L5.41 20z\"/>\n",
              "  </svg>\n",
              "      </button>\n",
              "      \n",
              "  <style>\n",
              "    .colab-df-container {\n",
              "      display:flex;\n",
              "      flex-wrap:wrap;\n",
              "      gap: 12px;\n",
              "    }\n",
              "\n",
              "    .colab-df-convert {\n",
              "      background-color: #E8F0FE;\n",
              "      border: none;\n",
              "      border-radius: 50%;\n",
              "      cursor: pointer;\n",
              "      display: none;\n",
              "      fill: #1967D2;\n",
              "      height: 32px;\n",
              "      padding: 0 0 0 0;\n",
              "      width: 32px;\n",
              "    }\n",
              "\n",
              "    .colab-df-convert:hover {\n",
              "      background-color: #E2EBFA;\n",
              "      box-shadow: 0px 1px 2px rgba(60, 64, 67, 0.3), 0px 1px 3px 1px rgba(60, 64, 67, 0.15);\n",
              "      fill: #174EA6;\n",
              "    }\n",
              "\n",
              "    [theme=dark] .colab-df-convert {\n",
              "      background-color: #3B4455;\n",
              "      fill: #D2E3FC;\n",
              "    }\n",
              "\n",
              "    [theme=dark] .colab-df-convert:hover {\n",
              "      background-color: #434B5C;\n",
              "      box-shadow: 0px 1px 3px 1px rgba(0, 0, 0, 0.15);\n",
              "      filter: drop-shadow(0px 1px 2px rgba(0, 0, 0, 0.3));\n",
              "      fill: #FFFFFF;\n",
              "    }\n",
              "  </style>\n",
              "\n",
              "      <script>\n",
              "        const buttonEl =\n",
              "          document.querySelector('#df-ba660807-4ec7-4862-8fcc-6a22cb67ea35 button.colab-df-convert');\n",
              "        buttonEl.style.display =\n",
              "          google.colab.kernel.accessAllowed ? 'block' : 'none';\n",
              "\n",
              "        async function convertToInteractive(key) {\n",
              "          const element = document.querySelector('#df-ba660807-4ec7-4862-8fcc-6a22cb67ea35');\n",
              "          const dataTable =\n",
              "            await google.colab.kernel.invokeFunction('convertToInteractive',\n",
              "                                                     [key], {});\n",
              "          if (!dataTable) return;\n",
              "\n",
              "          const docLinkHtml = 'Like what you see? Visit the ' +\n",
              "            '<a target=\"_blank\" href=https://colab.research.google.com/notebooks/data_table.ipynb>data table notebook</a>'\n",
              "            + ' to learn more about interactive tables.';\n",
              "          element.innerHTML = '';\n",
              "          dataTable['output_type'] = 'display_data';\n",
              "          await google.colab.output.renderOutput(dataTable, element);\n",
              "          const docLink = document.createElement('div');\n",
              "          docLink.innerHTML = docLinkHtml;\n",
              "          element.appendChild(docLink);\n",
              "        }\n",
              "      </script>\n",
              "    </div>\n",
              "  </div>\n",
              "  "
            ]
          },
          "metadata": {},
          "execution_count": 100
        }
      ]
    },
    {
      "cell_type": "markdown",
      "metadata": {
        "id": "Ph43gYpzRJQK"
      },
      "source": [
        "Сохранить полученный результат можно следующим образом:"
      ]
    },
    {
      "cell_type": "code",
      "execution_count": 101,
      "metadata": {
        "id": "mxHRat2ERJQK"
      },
      "outputs": [],
      "source": [
        "nik_name = 'Daniil'\n",
        "data.to_excel('/content/drive/MyDrive/school21/day01/datasets/Даты ' + nik_name + '.xlsx', index=False)"
      ]
    },
    {
      "cell_type": "markdown",
      "source": [
        "Для выполнения задания вам нужно будет сохранить новый файл в ту же папку, откуда мы берем файл Даты.xlsx"
      ],
      "metadata": {
        "id": "iaGYRACRmF-u"
      }
    },
    {
      "cell_type": "markdown",
      "metadata": {
        "id": "BEm_k9fqRJQL"
      },
      "source": [
        "Good_luck = 'Удачи!'"
      ]
    }
  ],
  "metadata": {
    "kernelspec": {
      "display_name": "Python 3",
      "language": "python",
      "name": "python3"
    },
    "language_info": {
      "codemirror_mode": {
        "name": "ipython",
        "version": 3
      },
      "file_extension": ".py",
      "mimetype": "text/x-python",
      "name": "python",
      "nbconvert_exporter": "python",
      "pygments_lexer": "ipython3",
      "version": "3.7.6"
    },
    "colab": {
      "name": "d01_task.ipynb",
      "provenance": [],
      "collapsed_sections": [],
      "include_colab_link": true
    }
  },
  "nbformat": 4,
  "nbformat_minor": 0
}